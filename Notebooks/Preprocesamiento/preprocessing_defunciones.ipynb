{
 "cells": [
  {
   "cell_type": "code",
   "execution_count": 47,
   "metadata": {},
   "outputs": [],
   "source": [
    "# Importando librerías de interés\n",
    "import pandas as pd\n",
    "import numpy as np"
   ]
  },
  {
   "cell_type": "code",
   "execution_count": 48,
   "metadata": {},
   "outputs": [],
   "source": [
    "# Columnas de interés de las tablas de Defunciones Generales\n",
    "cols = ['anio_ocur',\n",
    "        'area_ur',\n",
    "        'causa_def',\n",
    "        'loc_resid',\n",
    "        'ent_resid',\n",
    "        'mun_resid',\n",
    "        'tloc_resid']"
   ]
  },
  {
   "cell_type": "code",
   "execution_count": 49,
   "metadata": {},
   "outputs": [],
   "source": [
    "# Lista de defunciones en México en 2012\n",
    "path = 'defunciones_generales_2012.csv'\n",
    "df_12 = pd.read_csv(path)"
   ]
  },
  {
   "cell_type": "code",
   "execution_count": 50,
   "metadata": {},
   "outputs": [],
   "source": [
    "# Seleccionando únicamente las columnas de interés del df_12\n",
    "df_12 = df_12[cols]"
   ]
  },
  {
   "cell_type": "code",
   "execution_count": 51,
   "metadata": {},
   "outputs": [],
   "source": [
    "# Filtrando df por año de ocurrencia = 2012\n",
    "df_12 = df_12[df_12['anio_ocur'] == 2012]"
   ]
  },
  {
   "cell_type": "code",
   "execution_count": 52,
   "metadata": {},
   "outputs": [
    {
     "data": {
      "text/plain": [
       "(587826, 7)"
      ]
     },
     "execution_count": 52,
     "metadata": {},
     "output_type": "execute_result"
    }
   ],
   "source": [
    "# Dimensión del dataframe filtrado\n",
    "df_12.shape"
   ]
  },
  {
   "cell_type": "code",
   "execution_count": 53,
   "metadata": {},
   "outputs": [],
   "source": [
    "# Lista de defunciones en México en 2016\n",
    "path = 'defunciones_generales_2016.csv'\n",
    "df_16 = pd.read_csv(path)"
   ]
  },
  {
   "cell_type": "code",
   "execution_count": 54,
   "metadata": {},
   "outputs": [],
   "source": [
    "# Seleccionando únicamente las columnas de interés del df_16\n",
    "df_16 = df_16[cols]"
   ]
  },
  {
   "cell_type": "code",
   "execution_count": 55,
   "metadata": {},
   "outputs": [],
   "source": [
    "# Filtrando df por año de ocurrencia = 2016\n",
    "df_16 = df_16[df_16['anio_ocur'] == 2016]"
   ]
  },
  {
   "cell_type": "code",
   "execution_count": 56,
   "metadata": {},
   "outputs": [
    {
     "data": {
      "text/plain": [
       "(671536, 7)"
      ]
     },
     "execution_count": 56,
     "metadata": {},
     "output_type": "execute_result"
    }
   ],
   "source": [
    "# Dimensión del dataframe filtrado\n",
    "df_16.shape"
   ]
  },
  {
   "cell_type": "code",
   "execution_count": 57,
   "metadata": {},
   "outputs": [],
   "source": [
    "# Concatenación de ambos dataframes \n",
    "df = pd.concat([df_12, \n",
    "                df_16], axis=0)"
   ]
  },
  {
   "cell_type": "code",
   "execution_count": 58,
   "metadata": {},
   "outputs": [
    {
     "data": {
      "text/plain": [
       "Index(['anio_ocur', 'area_ur', 'causa_def', 'loc_resid', 'ent_resid',\n",
       "       'mun_resid', 'tloc_resid'],\n",
       "      dtype='object')"
      ]
     },
     "execution_count": 58,
     "metadata": {},
     "output_type": "execute_result"
    }
   ],
   "source": [
    "# Columnas resultantes \n",
    "df.columns"
   ]
  },
  {
   "cell_type": "code",
   "execution_count": 59,
   "metadata": {},
   "outputs": [
    {
     "name": "stdout",
     "output_type": "stream",
     "text": [
      "<class 'pandas.core.frame.DataFrame'>\n",
      "Int64Index: 1259362 entries, 2 to 685765\n",
      "Data columns (total 7 columns):\n",
      " #   Column      Non-Null Count    Dtype \n",
      "---  ------      --------------    ----- \n",
      " 0   anio_ocur   1259362 non-null  int64 \n",
      " 1   area_ur     1259362 non-null  int64 \n",
      " 2   causa_def   1259362 non-null  object\n",
      " 3   loc_resid   1259362 non-null  int64 \n",
      " 4   ent_resid   1259362 non-null  int64 \n",
      " 5   mun_resid   1259362 non-null  int64 \n",
      " 6   tloc_resid  1259362 non-null  int64 \n",
      "dtypes: int64(6), object(1)\n",
      "memory usage: 76.9+ MB\n"
     ]
    }
   ],
   "source": [
    "# Descripción de las variables del dataframe resultante\n",
    "df.info()"
   ]
  },
  {
   "cell_type": "code",
   "execution_count": 60,
   "metadata": {},
   "outputs": [
    {
     "data": {
      "text/html": [
       "<div>\n",
       "<style scoped>\n",
       "    .dataframe tbody tr th:only-of-type {\n",
       "        vertical-align: middle;\n",
       "    }\n",
       "\n",
       "    .dataframe tbody tr th {\n",
       "        vertical-align: top;\n",
       "    }\n",
       "\n",
       "    .dataframe thead th {\n",
       "        text-align: right;\n",
       "    }\n",
       "</style>\n",
       "<table border=\"1\" class=\"dataframe\">\n",
       "  <thead>\n",
       "    <tr style=\"text-align: right;\">\n",
       "      <th></th>\n",
       "      <th>anio_ocur</th>\n",
       "      <th>area_ur</th>\n",
       "      <th>causa_def</th>\n",
       "      <th>loc_resid</th>\n",
       "      <th>ent_resid</th>\n",
       "      <th>mun_resid</th>\n",
       "      <th>tloc_resid</th>\n",
       "    </tr>\n",
       "  </thead>\n",
       "  <tbody>\n",
       "    <tr>\n",
       "      <th>2</th>\n",
       "      <td>2012</td>\n",
       "      <td>2</td>\n",
       "      <td>M729</td>\n",
       "      <td>7777</td>\n",
       "      <td>1</td>\n",
       "      <td>1</td>\n",
       "      <td>1</td>\n",
       "    </tr>\n",
       "    <tr>\n",
       "      <th>4</th>\n",
       "      <td>2012</td>\n",
       "      <td>1</td>\n",
       "      <td>R54X</td>\n",
       "      <td>1</td>\n",
       "      <td>1</td>\n",
       "      <td>1</td>\n",
       "      <td>15</td>\n",
       "    </tr>\n",
       "    <tr>\n",
       "      <th>8</th>\n",
       "      <td>2012</td>\n",
       "      <td>1</td>\n",
       "      <td>I219</td>\n",
       "      <td>1</td>\n",
       "      <td>1</td>\n",
       "      <td>1</td>\n",
       "      <td>15</td>\n",
       "    </tr>\n",
       "    <tr>\n",
       "      <th>11</th>\n",
       "      <td>2012</td>\n",
       "      <td>1</td>\n",
       "      <td>J440</td>\n",
       "      <td>1</td>\n",
       "      <td>1</td>\n",
       "      <td>1</td>\n",
       "      <td>15</td>\n",
       "    </tr>\n",
       "    <tr>\n",
       "      <th>13</th>\n",
       "      <td>2012</td>\n",
       "      <td>2</td>\n",
       "      <td>K259</td>\n",
       "      <td>47</td>\n",
       "      <td>1</td>\n",
       "      <td>3</td>\n",
       "      <td>2</td>\n",
       "    </tr>\n",
       "  </tbody>\n",
       "</table>\n",
       "</div>"
      ],
      "text/plain": [
       "    anio_ocur  area_ur causa_def  loc_resid  ent_resid  mun_resid  tloc_resid\n",
       "2        2012        2      M729       7777          1          1           1\n",
       "4        2012        1      R54X          1          1          1          15\n",
       "8        2012        1      I219          1          1          1          15\n",
       "11       2012        1      J440          1          1          1          15\n",
       "13       2012        2      K259         47          1          3           2"
      ]
     },
     "execution_count": 60,
     "metadata": {},
     "output_type": "execute_result"
    }
   ],
   "source": [
    "# Obteniendo primeros registros del df resultante\n",
    "df.head()"
   ]
  },
  {
   "cell_type": "code",
   "execution_count": 61,
   "metadata": {},
   "outputs": [
    {
     "data": {
      "text/html": [
       "<div>\n",
       "<style scoped>\n",
       "    .dataframe tbody tr th:only-of-type {\n",
       "        vertical-align: middle;\n",
       "    }\n",
       "\n",
       "    .dataframe tbody tr th {\n",
       "        vertical-align: top;\n",
       "    }\n",
       "\n",
       "    .dataframe thead th {\n",
       "        text-align: right;\n",
       "    }\n",
       "</style>\n",
       "<table border=\"1\" class=\"dataframe\">\n",
       "  <thead>\n",
       "    <tr style=\"text-align: right;\">\n",
       "      <th></th>\n",
       "      <th>anio_ocur</th>\n",
       "      <th>area_ur</th>\n",
       "      <th>causa_def</th>\n",
       "      <th>loc_resid</th>\n",
       "      <th>ent_resid</th>\n",
       "      <th>mun_resid</th>\n",
       "      <th>tloc_resid</th>\n",
       "    </tr>\n",
       "  </thead>\n",
       "  <tbody>\n",
       "    <tr>\n",
       "      <th>685761</th>\n",
       "      <td>2016</td>\n",
       "      <td>1</td>\n",
       "      <td>R959</td>\n",
       "      <td>1</td>\n",
       "      <td>32</td>\n",
       "      <td>17</td>\n",
       "      <td>13</td>\n",
       "    </tr>\n",
       "    <tr>\n",
       "      <th>685762</th>\n",
       "      <td>2016</td>\n",
       "      <td>1</td>\n",
       "      <td>P288</td>\n",
       "      <td>1</td>\n",
       "      <td>32</td>\n",
       "      <td>57</td>\n",
       "      <td>6</td>\n",
       "    </tr>\n",
       "    <tr>\n",
       "      <th>685763</th>\n",
       "      <td>2016</td>\n",
       "      <td>1</td>\n",
       "      <td>X997</td>\n",
       "      <td>1</td>\n",
       "      <td>32</td>\n",
       "      <td>56</td>\n",
       "      <td>13</td>\n",
       "    </tr>\n",
       "    <tr>\n",
       "      <th>685764</th>\n",
       "      <td>2016</td>\n",
       "      <td>1</td>\n",
       "      <td>X957</td>\n",
       "      <td>16</td>\n",
       "      <td>32</td>\n",
       "      <td>37</td>\n",
       "      <td>5</td>\n",
       "    </tr>\n",
       "    <tr>\n",
       "      <th>685765</th>\n",
       "      <td>2016</td>\n",
       "      <td>1</td>\n",
       "      <td>Y094</td>\n",
       "      <td>1</td>\n",
       "      <td>32</td>\n",
       "      <td>17</td>\n",
       "      <td>13</td>\n",
       "    </tr>\n",
       "  </tbody>\n",
       "</table>\n",
       "</div>"
      ],
      "text/plain": [
       "        anio_ocur  area_ur causa_def  loc_resid  ent_resid  mun_resid  \\\n",
       "685761       2016        1      R959          1         32         17   \n",
       "685762       2016        1      P288          1         32         57   \n",
       "685763       2016        1      X997          1         32         56   \n",
       "685764       2016        1      X957         16         32         37   \n",
       "685765       2016        1      Y094          1         32         17   \n",
       "\n",
       "        tloc_resid  \n",
       "685761          13  \n",
       "685762           6  \n",
       "685763          13  \n",
       "685764           5  \n",
       "685765          13  "
      ]
     },
     "execution_count": 61,
     "metadata": {},
     "output_type": "execute_result"
    }
   ],
   "source": [
    "# Obteniendo últimos registros del df resultante\n",
    "df.tail()"
   ]
  },
  {
   "cell_type": "code",
   "execution_count": 62,
   "metadata": {},
   "outputs": [
    {
     "data": {
      "text/html": [
       "<div>\n",
       "<style scoped>\n",
       "    .dataframe tbody tr th:only-of-type {\n",
       "        vertical-align: middle;\n",
       "    }\n",
       "\n",
       "    .dataframe tbody tr th {\n",
       "        vertical-align: top;\n",
       "    }\n",
       "\n",
       "    .dataframe thead th {\n",
       "        text-align: right;\n",
       "    }\n",
       "</style>\n",
       "<table border=\"1\" class=\"dataframe\">\n",
       "  <thead>\n",
       "    <tr style=\"text-align: right;\">\n",
       "      <th></th>\n",
       "      <th>anio_ocur</th>\n",
       "      <th>area_ur</th>\n",
       "      <th>causa_def</th>\n",
       "      <th>loc_resid</th>\n",
       "      <th>ent_resid</th>\n",
       "      <th>mun_resid</th>\n",
       "      <th>tloc_resid</th>\n",
       "      <th>id_loc</th>\n",
       "    </tr>\n",
       "  </thead>\n",
       "  <tbody>\n",
       "    <tr>\n",
       "      <th>2</th>\n",
       "      <td>2012</td>\n",
       "      <td>2</td>\n",
       "      <td>M729</td>\n",
       "      <td>7777</td>\n",
       "      <td>1</td>\n",
       "      <td>1</td>\n",
       "      <td>1</td>\n",
       "      <td>1_1_7777</td>\n",
       "    </tr>\n",
       "    <tr>\n",
       "      <th>4</th>\n",
       "      <td>2012</td>\n",
       "      <td>1</td>\n",
       "      <td>R54X</td>\n",
       "      <td>1</td>\n",
       "      <td>1</td>\n",
       "      <td>1</td>\n",
       "      <td>15</td>\n",
       "      <td>1_1_1</td>\n",
       "    </tr>\n",
       "    <tr>\n",
       "      <th>8</th>\n",
       "      <td>2012</td>\n",
       "      <td>1</td>\n",
       "      <td>I219</td>\n",
       "      <td>1</td>\n",
       "      <td>1</td>\n",
       "      <td>1</td>\n",
       "      <td>15</td>\n",
       "      <td>1_1_1</td>\n",
       "    </tr>\n",
       "    <tr>\n",
       "      <th>11</th>\n",
       "      <td>2012</td>\n",
       "      <td>1</td>\n",
       "      <td>J440</td>\n",
       "      <td>1</td>\n",
       "      <td>1</td>\n",
       "      <td>1</td>\n",
       "      <td>15</td>\n",
       "      <td>1_1_1</td>\n",
       "    </tr>\n",
       "    <tr>\n",
       "      <th>13</th>\n",
       "      <td>2012</td>\n",
       "      <td>2</td>\n",
       "      <td>K259</td>\n",
       "      <td>47</td>\n",
       "      <td>1</td>\n",
       "      <td>3</td>\n",
       "      <td>2</td>\n",
       "      <td>1_3_47</td>\n",
       "    </tr>\n",
       "  </tbody>\n",
       "</table>\n",
       "</div>"
      ],
      "text/plain": [
       "    anio_ocur  area_ur causa_def  loc_resid  ent_resid  mun_resid  tloc_resid  \\\n",
       "2        2012        2      M729       7777          1          1           1   \n",
       "4        2012        1      R54X          1          1          1          15   \n",
       "8        2012        1      I219          1          1          1          15   \n",
       "11       2012        1      J440          1          1          1          15   \n",
       "13       2012        2      K259         47          1          3           2   \n",
       "\n",
       "      id_loc  \n",
       "2   1_1_7777  \n",
       "4      1_1_1  \n",
       "8      1_1_1  \n",
       "11     1_1_1  \n",
       "13    1_3_47  "
      ]
     },
     "execution_count": 62,
     "metadata": {},
     "output_type": "execute_result"
    }
   ],
   "source": [
    "# Creando columna de ID de localidad\n",
    "df['id_loc'] = df['ent_resid'].astype(str) + '_' + df['mun_resid'].astype(str) + '_' + df['loc_resid'].astype(str)\n",
    "df.head()"
   ]
  },
  {
   "cell_type": "code",
   "execution_count": 63,
   "metadata": {},
   "outputs": [
    {
     "data": {
      "text/plain": [
       "Index(['anio_ocur', 'area_ur', 'causa_def', 'tloc_resid', 'id_loc'], dtype='object')"
      ]
     },
     "execution_count": 63,
     "metadata": {},
     "output_type": "execute_result"
    }
   ],
   "source": [
    "# Eliminando columnas de Entidad, Localidad y Municipio de Residencia pues ya se tienen\n",
    "df.drop(['ent_resid', 'mun_resid', 'loc_resid'], axis=1, inplace=True)\n",
    "df.columns"
   ]
  },
  {
   "cell_type": "code",
   "execution_count": 68,
   "metadata": {},
   "outputs": [],
   "source": [
    "# Leyendo diccionario de condiciones respiratorias \n",
    "path = 'diccionario_cond_resp.csv'\n",
    "df_cond_resp = pd.read_csv(path) "
   ]
  },
  {
   "cell_type": "code",
   "execution_count": 69,
   "metadata": {},
   "outputs": [
    {
     "name": "stdout",
     "output_type": "stream",
     "text": [
      "<class 'pandas.core.frame.DataFrame'>\n",
      "RangeIndex: 10664 entries, 0 to 10663\n",
      "Data columns (total 2 columns):\n",
      " #   Column     Non-Null Count  Dtype \n",
      "---  ------     --------------  ----- \n",
      " 0   causa_def  10664 non-null  object\n",
      " 1   cond_resp  10664 non-null  int64 \n",
      "dtypes: int64(1), object(1)\n",
      "memory usage: 166.8+ KB\n"
     ]
    }
   ],
   "source": [
    "# Describiendo catálogo de condiciones respiratorias\n",
    "df_cond_resp.info()"
   ]
  },
  {
   "cell_type": "code",
   "execution_count": 70,
   "metadata": {},
   "outputs": [
    {
     "data": {
      "text/plain": [
       "(1259362, 6)"
      ]
     },
     "execution_count": 70,
     "metadata": {},
     "output_type": "execute_result"
    }
   ],
   "source": [
    "# Uniendo tablas de condiciones respiratorias y defunciones generales\n",
    "df = df.merge(df_cond_resp, how='left')\n",
    "df.shape"
   ]
  },
  {
   "cell_type": "code",
   "execution_count": 71,
   "metadata": {},
   "outputs": [
    {
     "data": {
      "text/html": [
       "<div>\n",
       "<style scoped>\n",
       "    .dataframe tbody tr th:only-of-type {\n",
       "        vertical-align: middle;\n",
       "    }\n",
       "\n",
       "    .dataframe tbody tr th {\n",
       "        vertical-align: top;\n",
       "    }\n",
       "\n",
       "    .dataframe thead th {\n",
       "        text-align: right;\n",
       "    }\n",
       "</style>\n",
       "<table border=\"1\" class=\"dataframe\">\n",
       "  <thead>\n",
       "    <tr style=\"text-align: right;\">\n",
       "      <th></th>\n",
       "      <th>anio_ocur</th>\n",
       "      <th>area_ur</th>\n",
       "      <th>causa_def</th>\n",
       "      <th>tloc_resid</th>\n",
       "      <th>id_loc</th>\n",
       "      <th>cond_resp</th>\n",
       "    </tr>\n",
       "  </thead>\n",
       "  <tbody>\n",
       "    <tr>\n",
       "      <th>0</th>\n",
       "      <td>2012</td>\n",
       "      <td>2</td>\n",
       "      <td>M729</td>\n",
       "      <td>1</td>\n",
       "      <td>1_1_7777</td>\n",
       "      <td>0</td>\n",
       "    </tr>\n",
       "    <tr>\n",
       "      <th>1</th>\n",
       "      <td>2012</td>\n",
       "      <td>1</td>\n",
       "      <td>R54X</td>\n",
       "      <td>15</td>\n",
       "      <td>1_1_1</td>\n",
       "      <td>0</td>\n",
       "    </tr>\n",
       "    <tr>\n",
       "      <th>2</th>\n",
       "      <td>2012</td>\n",
       "      <td>1</td>\n",
       "      <td>I219</td>\n",
       "      <td>15</td>\n",
       "      <td>1_1_1</td>\n",
       "      <td>0</td>\n",
       "    </tr>\n",
       "    <tr>\n",
       "      <th>3</th>\n",
       "      <td>2012</td>\n",
       "      <td>1</td>\n",
       "      <td>J440</td>\n",
       "      <td>15</td>\n",
       "      <td>1_1_1</td>\n",
       "      <td>1</td>\n",
       "    </tr>\n",
       "    <tr>\n",
       "      <th>4</th>\n",
       "      <td>2012</td>\n",
       "      <td>2</td>\n",
       "      <td>K259</td>\n",
       "      <td>2</td>\n",
       "      <td>1_3_47</td>\n",
       "      <td>0</td>\n",
       "    </tr>\n",
       "  </tbody>\n",
       "</table>\n",
       "</div>"
      ],
      "text/plain": [
       "   anio_ocur  area_ur causa_def  tloc_resid    id_loc  cond_resp\n",
       "0       2012        2      M729           1  1_1_7777          0\n",
       "1       2012        1      R54X          15     1_1_1          0\n",
       "2       2012        1      I219          15     1_1_1          0\n",
       "3       2012        1      J440          15     1_1_1          1\n",
       "4       2012        2      K259           2    1_3_47          0"
      ]
     },
     "execution_count": 71,
     "metadata": {},
     "output_type": "execute_result"
    }
   ],
   "source": [
    "# Encabezado de la nueva tabla\n",
    "df.head()"
   ]
  },
  {
   "cell_type": "code",
   "execution_count": 72,
   "metadata": {},
   "outputs": [
    {
     "data": {
      "text/plain": [
       "Index(['anio_ocur', 'area_ur', 'tloc_resid', 'id_loc', 'cond_resp'], dtype='object')"
      ]
     },
     "execution_count": 72,
     "metadata": {},
     "output_type": "execute_result"
    }
   ],
   "source": [
    "# Eliminando columna de causa de defunción\n",
    "df.drop(['causa_def'], axis=1, inplace=True)\n",
    "df.columns"
   ]
  },
  {
   "cell_type": "code",
   "execution_count": 77,
   "metadata": {},
   "outputs": [],
   "source": [
    "# Agrupación de datos por localidad\n",
    "df_filtrada = df.groupby(['id_loc','anio_ocur','area_ur','tloc_resid'], as_index=False).sum()"
   ]
  },
  {
   "cell_type": "code",
   "execution_count": 78,
   "metadata": {},
   "outputs": [
    {
     "data": {
      "text/html": [
       "<div>\n",
       "<style scoped>\n",
       "    .dataframe tbody tr th:only-of-type {\n",
       "        vertical-align: middle;\n",
       "    }\n",
       "\n",
       "    .dataframe tbody tr th {\n",
       "        vertical-align: top;\n",
       "    }\n",
       "\n",
       "    .dataframe thead th {\n",
       "        text-align: right;\n",
       "    }\n",
       "</style>\n",
       "<table border=\"1\" class=\"dataframe\">\n",
       "  <thead>\n",
       "    <tr style=\"text-align: right;\">\n",
       "      <th></th>\n",
       "      <th>id_loc</th>\n",
       "      <th>anio_ocur</th>\n",
       "      <th>area_ur</th>\n",
       "      <th>tloc_resid</th>\n",
       "      <th>cond_resp</th>\n",
       "    </tr>\n",
       "  </thead>\n",
       "  <tbody>\n",
       "    <tr>\n",
       "      <th>0</th>\n",
       "      <td>10_10_1</td>\n",
       "      <td>2012</td>\n",
       "      <td>2</td>\n",
       "      <td>1</td>\n",
       "      <td>2</td>\n",
       "    </tr>\n",
       "    <tr>\n",
       "      <th>1</th>\n",
       "      <td>10_10_1</td>\n",
       "      <td>2016</td>\n",
       "      <td>2</td>\n",
       "      <td>1</td>\n",
       "      <td>1</td>\n",
       "    </tr>\n",
       "    <tr>\n",
       "      <th>2</th>\n",
       "      <td>10_10_29</td>\n",
       "      <td>2012</td>\n",
       "      <td>2</td>\n",
       "      <td>1</td>\n",
       "      <td>0</td>\n",
       "    </tr>\n",
       "    <tr>\n",
       "      <th>3</th>\n",
       "      <td>10_10_29</td>\n",
       "      <td>2016</td>\n",
       "      <td>2</td>\n",
       "      <td>1</td>\n",
       "      <td>1</td>\n",
       "    </tr>\n",
       "    <tr>\n",
       "      <th>4</th>\n",
       "      <td>10_10_33</td>\n",
       "      <td>2012</td>\n",
       "      <td>2</td>\n",
       "      <td>1</td>\n",
       "      <td>0</td>\n",
       "    </tr>\n",
       "  </tbody>\n",
       "</table>\n",
       "</div>"
      ],
      "text/plain": [
       "     id_loc  anio_ocur  area_ur  tloc_resid  cond_resp\n",
       "0   10_10_1       2012        2           1          2\n",
       "1   10_10_1       2016        2           1          1\n",
       "2  10_10_29       2012        2           1          0\n",
       "3  10_10_29       2016        2           1          1\n",
       "4  10_10_33       2012        2           1          0"
      ]
     },
     "execution_count": 78,
     "metadata": {},
     "output_type": "execute_result"
    }
   ],
   "source": [
    "# Obteniendo número de defunciones por condiciones agrupadas\n",
    "df_filtrada.head()"
   ]
  },
  {
   "cell_type": "code",
   "execution_count": 79,
   "metadata": {},
   "outputs": [
    {
     "data": {
      "text/plain": [
       "array([   2,    1,    0,    5,    3,   48,   47,    4,    6,    9,   12,\n",
       "         16,   13,   22,    8,   27,   19,   10,  281,  314,  123,  138,\n",
       "         11,    7,   21,   39,   31,   23,   24,   54,   73,  185,  225,\n",
       "        572,  770,   29,   25,   35,   33,   14,   98,  101,   41,   15,\n",
       "         18,   45,   17,   26,   60,   46,   43,   37,   28,  167,  174,\n",
       "        364,  313,   61,   72,   56,   76,   30,   20,  125,  133,   63,\n",
       "        203,  246,  637,  813,   34,   32,   68,   75, 1317, 1611,   83,\n",
       "         88,   57,   79,  117,  143,   36,   53,   80,   67,  127,  296,\n",
       "        393,  423,  489,  274,  271,   49,  148,  152,   38,  197,  211,\n",
       "        165,  250,  105,   42,   64,   71,  265,  295,  831,  847,   94,\n",
       "         87,  112,  132,   91,  525,  527,  641,  747,  149,  145,   74,\n",
       "        111,   50,   78,  126,  131,   51,  329,  376,   58,   89,  234,\n",
       "        272,  172,  202,   40,   66,  377,  366,   90,  743,  929,  292,\n",
       "        135,  144,  371,  441,   59,  115,  795,  897,   44,  110,  159,\n",
       "        278,  311,   82,  184,  269,   84,  404,  468,   86,  245,   95,\n",
       "        136,  307,  346,  212,  229,  464,  631,  109,   92,  268,  228,\n",
       "        200,  181,  254,   69,  104,  140,  146,  137,  171,  218,  526,\n",
       "        657,  737,   85,  128,   55,  124,  405,  120,  102,  147,  243,\n",
       "        514,  615,   97,   99,  103,  107,   70,   77,  352,  353,  216,\n",
       "        134,  533,  571,  106,  698,  475,  520,  298,  372,  176,  190,\n",
       "        396,  443,  463,  370,  355,  387,  328,  361,  446,  499,   96,\n",
       "        868,  900,  320,  327,  961, 1132,  139,  160], dtype=int64)"
      ]
     },
     "execution_count": 79,
     "metadata": {},
     "output_type": "execute_result"
    }
   ],
   "source": [
    "# Obteniendo números únicos de defunciones\n",
    "df_filtrada.cond_resp.unique()"
   ]
  },
  {
   "cell_type": "code",
   "execution_count": 80,
   "metadata": {},
   "outputs": [],
   "source": [
    "# Exportando archivo\n",
    "df_filtrada.to_csv('defunciones-filtrado.csv', index=False)"
   ]
  },
  {
   "cell_type": "code",
   "execution_count": null,
   "metadata": {},
   "outputs": [],
   "source": []
  }
 ],
 "metadata": {
  "interpreter": {
   "hash": "aee8b7b246df8f9039afb4144a1f6fd8d2ca17a180786b69acc140d282b71a49"
  },
  "kernelspec": {
   "display_name": "Python 3 (ipykernel)",
   "language": "python",
   "name": "python3"
  },
  "language_info": {
   "codemirror_mode": {
    "name": "ipython",
    "version": 3
   },
   "file_extension": ".py",
   "mimetype": "text/x-python",
   "name": "python",
   "nbconvert_exporter": "python",
   "pygments_lexer": "ipython3",
   "version": "3.9.7"
  }
 },
 "nbformat": 4,
 "nbformat_minor": 2
}
