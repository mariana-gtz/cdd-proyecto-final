{
 "cells": [
  {
   "cell_type": "code",
   "execution_count": 1,
   "metadata": {},
   "outputs": [],
   "source": [
    "# Importando librerías de interés\n",
    "import pandas as pd\n",
    "import numpy as np\n",
    "\n",
    "from plotnine import ggplot, aes, geom_histogram, facet_grid, facet_wrap, geom_bar, geom_point\n",
    "import matplotlib.pyplot as plt\n",
    "import seaborn as sns\n",
    "from pandas.plotting import scatter_matrix\n",
    "\n",
    "from sklearn.model_selection import train_test_split, StratifiedShuffleSplit\n",
    "from sklearn.impute import SimpleImputer\n",
    "from sklearn.preprocessing import OrdinalEncoder, OneHotEncoder\n",
    "\n",
    "from sklearn.linear_model import LinearRegression\n",
    "from sklearn.linear_model import LogisticRegression\n",
    "from sklearn.tree import DecisionTreeClassifier\n",
    "from sklearn.preprocessing import PolynomialFeatures\n",
    "from sklearn.model_selection import train_test_split\n",
    "from sklearn.metrics import r2_score, mean_squared_error, confusion_matrix, accuracy_score, precision_score, recall_score, f1_score\n",
    "from sklearn import svm\n",
    "from sklearn.tree import export_graphviz\n",
    "from IPython.display import Image  \n",
    "import pydotplus"
   ]
  },
  {
   "cell_type": "code",
   "execution_count": 2,
   "metadata": {},
   "outputs": [],
   "source": [
    "df_defunciones = pd.read_csv('defunciones-filtrado.csv')\n",
    "df_defunciones.rename(columns={'id_loc': 'localidad',\n",
    "                   'anio_ocur': 'anio',\n",
    "                   'area_ur': 'urbanizacion',\n",
    "                   },\n",
    "          inplace=True)\n",
    "df_defunciones = df_defunciones[['localidad', 'anio', 'cond_resp']]"
   ]
  },
  {
   "cell_type": "code",
   "execution_count": 3,
   "metadata": {},
   "outputs": [],
   "source": [
    "df_salud = pd.read_csv('df_salud_filtrada.csv')\n",
    "df_salud = df_salud[['localidad', 'anio', 'actividad_vigorosa_promedio', 'actividad_moderada_promedio', 'actividad_caminar_promedio']]"
   ]
  },
  {
   "cell_type": "code",
   "execution_count": 4,
   "metadata": {},
   "outputs": [
    {
     "data": {
      "text/html": [
       "<div>\n",
       "<style scoped>\n",
       "    .dataframe tbody tr th:only-of-type {\n",
       "        vertical-align: middle;\n",
       "    }\n",
       "\n",
       "    .dataframe tbody tr th {\n",
       "        vertical-align: top;\n",
       "    }\n",
       "\n",
       "    .dataframe thead th {\n",
       "        text-align: right;\n",
       "    }\n",
       "</style>\n",
       "<table border=\"1\" class=\"dataframe\">\n",
       "  <thead>\n",
       "    <tr style=\"text-align: right;\">\n",
       "      <th></th>\n",
       "      <th>localidad</th>\n",
       "      <th>anio</th>\n",
       "      <th>cond_resp</th>\n",
       "      <th>actividad_vigorosa_promedio</th>\n",
       "      <th>actividad_moderada_promedio</th>\n",
       "      <th>actividad_caminar_promedio</th>\n",
       "    </tr>\n",
       "  </thead>\n",
       "  <tbody>\n",
       "    <tr>\n",
       "      <th>0</th>\n",
       "      <td>10_10_1</td>\n",
       "      <td>2012</td>\n",
       "      <td>2</td>\n",
       "      <td>NaN</td>\n",
       "      <td>NaN</td>\n",
       "      <td>NaN</td>\n",
       "    </tr>\n",
       "    <tr>\n",
       "      <th>1</th>\n",
       "      <td>10_10_1</td>\n",
       "      <td>2016</td>\n",
       "      <td>1</td>\n",
       "      <td>NaN</td>\n",
       "      <td>NaN</td>\n",
       "      <td>NaN</td>\n",
       "    </tr>\n",
       "    <tr>\n",
       "      <th>2</th>\n",
       "      <td>10_10_29</td>\n",
       "      <td>2012</td>\n",
       "      <td>0</td>\n",
       "      <td>NaN</td>\n",
       "      <td>NaN</td>\n",
       "      <td>NaN</td>\n",
       "    </tr>\n",
       "    <tr>\n",
       "      <th>3</th>\n",
       "      <td>10_10_29</td>\n",
       "      <td>2016</td>\n",
       "      <td>1</td>\n",
       "      <td>NaN</td>\n",
       "      <td>NaN</td>\n",
       "      <td>NaN</td>\n",
       "    </tr>\n",
       "    <tr>\n",
       "      <th>4</th>\n",
       "      <td>10_10_33</td>\n",
       "      <td>2012</td>\n",
       "      <td>0</td>\n",
       "      <td>NaN</td>\n",
       "      <td>NaN</td>\n",
       "      <td>NaN</td>\n",
       "    </tr>\n",
       "    <tr>\n",
       "      <th>...</th>\n",
       "      <td>...</td>\n",
       "      <td>...</td>\n",
       "      <td>...</td>\n",
       "      <td>...</td>\n",
       "      <td>...</td>\n",
       "      <td>...</td>\n",
       "    </tr>\n",
       "    <tr>\n",
       "      <th>48773</th>\n",
       "      <td>9_9_74</td>\n",
       "      <td>2016</td>\n",
       "      <td>1</td>\n",
       "      <td>NaN</td>\n",
       "      <td>NaN</td>\n",
       "      <td>NaN</td>\n",
       "    </tr>\n",
       "    <tr>\n",
       "      <th>48774</th>\n",
       "      <td>9_9_7777</td>\n",
       "      <td>2012</td>\n",
       "      <td>1</td>\n",
       "      <td>NaN</td>\n",
       "      <td>NaN</td>\n",
       "      <td>NaN</td>\n",
       "    </tr>\n",
       "    <tr>\n",
       "      <th>48775</th>\n",
       "      <td>9_9_7777</td>\n",
       "      <td>2016</td>\n",
       "      <td>0</td>\n",
       "      <td>NaN</td>\n",
       "      <td>NaN</td>\n",
       "      <td>NaN</td>\n",
       "    </tr>\n",
       "    <tr>\n",
       "      <th>48776</th>\n",
       "      <td>9_9_9999</td>\n",
       "      <td>2012</td>\n",
       "      <td>1</td>\n",
       "      <td>NaN</td>\n",
       "      <td>NaN</td>\n",
       "      <td>NaN</td>\n",
       "    </tr>\n",
       "    <tr>\n",
       "      <th>48777</th>\n",
       "      <td>9_9_9999</td>\n",
       "      <td>2016</td>\n",
       "      <td>0</td>\n",
       "      <td>NaN</td>\n",
       "      <td>NaN</td>\n",
       "      <td>NaN</td>\n",
       "    </tr>\n",
       "  </tbody>\n",
       "</table>\n",
       "<p>48778 rows × 6 columns</p>\n",
       "</div>"
      ],
      "text/plain": [
       "      localidad  anio  cond_resp  actividad_vigorosa_promedio  \\\n",
       "0       10_10_1  2012          2                          NaN   \n",
       "1       10_10_1  2016          1                          NaN   \n",
       "2      10_10_29  2012          0                          NaN   \n",
       "3      10_10_29  2016          1                          NaN   \n",
       "4      10_10_33  2012          0                          NaN   \n",
       "...         ...   ...        ...                          ...   \n",
       "48773    9_9_74  2016          1                          NaN   \n",
       "48774  9_9_7777  2012          1                          NaN   \n",
       "48775  9_9_7777  2016          0                          NaN   \n",
       "48776  9_9_9999  2012          1                          NaN   \n",
       "48777  9_9_9999  2016          0                          NaN   \n",
       "\n",
       "       actividad_moderada_promedio  actividad_caminar_promedio  \n",
       "0                              NaN                         NaN  \n",
       "1                              NaN                         NaN  \n",
       "2                              NaN                         NaN  \n",
       "3                              NaN                         NaN  \n",
       "4                              NaN                         NaN  \n",
       "...                            ...                         ...  \n",
       "48773                          NaN                         NaN  \n",
       "48774                          NaN                         NaN  \n",
       "48775                          NaN                         NaN  \n",
       "48776                          NaN                         NaN  \n",
       "48777                          NaN                         NaN  \n",
       "\n",
       "[48778 rows x 6 columns]"
      ]
     },
     "execution_count": 4,
     "metadata": {},
     "output_type": "execute_result"
    }
   ],
   "source": [
    "df = df_defunciones.merge(df_salud, how='left', left_on=['localidad', 'anio'], right_on=['localidad', 'anio'])\n",
    "df"
   ]
  },
  {
   "cell_type": "code",
   "execution_count": null,
   "metadata": {},
   "outputs": [],
   "source": []
  },
  {
   "cell_type": "code",
   "execution_count": 5,
   "metadata": {},
   "outputs": [],
   "source": [
    "# Crea objeto para imputar con mediana\n",
    "imputer = SimpleImputer(strategy=\"median\")"
   ]
  },
  {
   "cell_type": "code",
   "execution_count": 6,
   "metadata": {},
   "outputs": [
    {
     "data": {
      "text/html": [
       "<style>#sk-container-id-1 {color: black;background-color: white;}#sk-container-id-1 pre{padding: 0;}#sk-container-id-1 div.sk-toggleable {background-color: white;}#sk-container-id-1 label.sk-toggleable__label {cursor: pointer;display: block;width: 100%;margin-bottom: 0;padding: 0.3em;box-sizing: border-box;text-align: center;}#sk-container-id-1 label.sk-toggleable__label-arrow:before {content: \"▸\";float: left;margin-right: 0.25em;color: #696969;}#sk-container-id-1 label.sk-toggleable__label-arrow:hover:before {color: black;}#sk-container-id-1 div.sk-estimator:hover label.sk-toggleable__label-arrow:before {color: black;}#sk-container-id-1 div.sk-toggleable__content {max-height: 0;max-width: 0;overflow: hidden;text-align: left;background-color: #f0f8ff;}#sk-container-id-1 div.sk-toggleable__content pre {margin: 0.2em;color: black;border-radius: 0.25em;background-color: #f0f8ff;}#sk-container-id-1 input.sk-toggleable__control:checked~div.sk-toggleable__content {max-height: 200px;max-width: 100%;overflow: auto;}#sk-container-id-1 input.sk-toggleable__control:checked~label.sk-toggleable__label-arrow:before {content: \"▾\";}#sk-container-id-1 div.sk-estimator input.sk-toggleable__control:checked~label.sk-toggleable__label {background-color: #d4ebff;}#sk-container-id-1 div.sk-label input.sk-toggleable__control:checked~label.sk-toggleable__label {background-color: #d4ebff;}#sk-container-id-1 input.sk-hidden--visually {border: 0;clip: rect(1px 1px 1px 1px);clip: rect(1px, 1px, 1px, 1px);height: 1px;margin: -1px;overflow: hidden;padding: 0;position: absolute;width: 1px;}#sk-container-id-1 div.sk-estimator {font-family: monospace;background-color: #f0f8ff;border: 1px dotted black;border-radius: 0.25em;box-sizing: border-box;margin-bottom: 0.5em;}#sk-container-id-1 div.sk-estimator:hover {background-color: #d4ebff;}#sk-container-id-1 div.sk-parallel-item::after {content: \"\";width: 100%;border-bottom: 1px solid gray;flex-grow: 1;}#sk-container-id-1 div.sk-label:hover label.sk-toggleable__label {background-color: #d4ebff;}#sk-container-id-1 div.sk-serial::before {content: \"\";position: absolute;border-left: 1px solid gray;box-sizing: border-box;top: 0;bottom: 0;left: 50%;z-index: 0;}#sk-container-id-1 div.sk-serial {display: flex;flex-direction: column;align-items: center;background-color: white;padding-right: 0.2em;padding-left: 0.2em;position: relative;}#sk-container-id-1 div.sk-item {position: relative;z-index: 1;}#sk-container-id-1 div.sk-parallel {display: flex;align-items: stretch;justify-content: center;background-color: white;position: relative;}#sk-container-id-1 div.sk-item::before, #sk-container-id-1 div.sk-parallel-item::before {content: \"\";position: absolute;border-left: 1px solid gray;box-sizing: border-box;top: 0;bottom: 0;left: 50%;z-index: -1;}#sk-container-id-1 div.sk-parallel-item {display: flex;flex-direction: column;z-index: 1;position: relative;background-color: white;}#sk-container-id-1 div.sk-parallel-item:first-child::after {align-self: flex-end;width: 50%;}#sk-container-id-1 div.sk-parallel-item:last-child::after {align-self: flex-start;width: 50%;}#sk-container-id-1 div.sk-parallel-item:only-child::after {width: 0;}#sk-container-id-1 div.sk-dashed-wrapped {border: 1px dashed gray;margin: 0 0.4em 0.5em 0.4em;box-sizing: border-box;padding-bottom: 0.4em;background-color: white;}#sk-container-id-1 div.sk-label label {font-family: monospace;font-weight: bold;display: inline-block;line-height: 1.2em;}#sk-container-id-1 div.sk-label-container {text-align: center;}#sk-container-id-1 div.sk-container {/* jupyter's `normalize.less` sets `[hidden] { display: none; }` but bootstrap.min.css set `[hidden] { display: none !important; }` so we also need the `!important` here to be able to override the default hidden behavior on the sphinx rendered scikit-learn.org. See: https://github.com/scikit-learn/scikit-learn/issues/21755 */display: inline-block !important;position: relative;}#sk-container-id-1 div.sk-text-repr-fallback {display: none;}</style><div id=\"sk-container-id-1\" class=\"sk-top-container\"><div class=\"sk-text-repr-fallback\"><pre>SimpleImputer(strategy=&#x27;median&#x27;)</pre><b>In a Jupyter environment, please rerun this cell to show the HTML representation or trust the notebook. <br />On GitHub, the HTML representation is unable to render, please try loading this page with nbviewer.org.</b></div><div class=\"sk-container\" hidden><div class=\"sk-item\"><div class=\"sk-estimator sk-toggleable\"><input class=\"sk-toggleable__control sk-hidden--visually\" id=\"sk-estimator-id-1\" type=\"checkbox\" checked><label for=\"sk-estimator-id-1\" class=\"sk-toggleable__label sk-toggleable__label-arrow\">SimpleImputer</label><div class=\"sk-toggleable__content\"><pre>SimpleImputer(strategy=&#x27;median&#x27;)</pre></div></div></div></div></div>"
      ],
      "text/plain": [
       "SimpleImputer(strategy='median')"
      ]
     },
     "execution_count": 6,
     "metadata": {},
     "output_type": "execute_result"
    }
   ],
   "source": [
    "# Ajusta conjunto de datos al objeto para imputar \n",
    "imputer.fit(df.drop(['localidad', 'anio', 'cond_resp'], axis=1))"
   ]
  },
  {
   "cell_type": "code",
   "execution_count": 7,
   "metadata": {},
   "outputs": [
    {
     "data": {
      "text/plain": [
       "array([152.80247798, 364.52425491, 267.62983254])"
      ]
     },
     "execution_count": 7,
     "metadata": {},
     "output_type": "execute_result"
    }
   ],
   "source": [
    "imputer.statistics_"
   ]
  },
  {
   "cell_type": "code",
   "execution_count": 8,
   "metadata": {},
   "outputs": [],
   "source": [
    "# Transforma conjunto de datos con el objeto para imputar\n",
    "X = imputer.transform(df.drop(['localidad', 'anio', 'cond_resp'], axis=1))\n",
    "df_tr = pd.DataFrame(X, columns=['actividad_vigorosa_promedio', 'actividad_moderada_promedio', 'actividad_caminar_promedio'])"
   ]
  },
  {
   "cell_type": "code",
   "execution_count": 9,
   "metadata": {},
   "outputs": [
    {
     "data": {
      "text/html": [
       "<div>\n",
       "<style scoped>\n",
       "    .dataframe tbody tr th:only-of-type {\n",
       "        vertical-align: middle;\n",
       "    }\n",
       "\n",
       "    .dataframe tbody tr th {\n",
       "        vertical-align: top;\n",
       "    }\n",
       "\n",
       "    .dataframe thead th {\n",
       "        text-align: right;\n",
       "    }\n",
       "</style>\n",
       "<table border=\"1\" class=\"dataframe\">\n",
       "  <thead>\n",
       "    <tr style=\"text-align: right;\">\n",
       "      <th></th>\n",
       "      <th>localidad</th>\n",
       "      <th>anio</th>\n",
       "      <th>cond_resp</th>\n",
       "      <th>actividad_vigorosa_promedio</th>\n",
       "      <th>actividad_moderada_promedio</th>\n",
       "      <th>actividad_caminar_promedio</th>\n",
       "    </tr>\n",
       "  </thead>\n",
       "  <tbody>\n",
       "    <tr>\n",
       "      <th>0</th>\n",
       "      <td>10_10_1</td>\n",
       "      <td>2012</td>\n",
       "      <td>2</td>\n",
       "      <td>152.802478</td>\n",
       "      <td>364.524255</td>\n",
       "      <td>267.629833</td>\n",
       "    </tr>\n",
       "    <tr>\n",
       "      <th>1</th>\n",
       "      <td>10_10_1</td>\n",
       "      <td>2016</td>\n",
       "      <td>1</td>\n",
       "      <td>152.802478</td>\n",
       "      <td>364.524255</td>\n",
       "      <td>267.629833</td>\n",
       "    </tr>\n",
       "    <tr>\n",
       "      <th>2</th>\n",
       "      <td>10_10_29</td>\n",
       "      <td>2012</td>\n",
       "      <td>0</td>\n",
       "      <td>152.802478</td>\n",
       "      <td>364.524255</td>\n",
       "      <td>267.629833</td>\n",
       "    </tr>\n",
       "    <tr>\n",
       "      <th>3</th>\n",
       "      <td>10_10_29</td>\n",
       "      <td>2016</td>\n",
       "      <td>1</td>\n",
       "      <td>152.802478</td>\n",
       "      <td>364.524255</td>\n",
       "      <td>267.629833</td>\n",
       "    </tr>\n",
       "    <tr>\n",
       "      <th>4</th>\n",
       "      <td>10_10_33</td>\n",
       "      <td>2012</td>\n",
       "      <td>0</td>\n",
       "      <td>152.802478</td>\n",
       "      <td>364.524255</td>\n",
       "      <td>267.629833</td>\n",
       "    </tr>\n",
       "    <tr>\n",
       "      <th>...</th>\n",
       "      <td>...</td>\n",
       "      <td>...</td>\n",
       "      <td>...</td>\n",
       "      <td>...</td>\n",
       "      <td>...</td>\n",
       "      <td>...</td>\n",
       "    </tr>\n",
       "    <tr>\n",
       "      <th>48773</th>\n",
       "      <td>9_9_74</td>\n",
       "      <td>2016</td>\n",
       "      <td>1</td>\n",
       "      <td>152.802478</td>\n",
       "      <td>364.524255</td>\n",
       "      <td>267.629833</td>\n",
       "    </tr>\n",
       "    <tr>\n",
       "      <th>48774</th>\n",
       "      <td>9_9_7777</td>\n",
       "      <td>2012</td>\n",
       "      <td>1</td>\n",
       "      <td>152.802478</td>\n",
       "      <td>364.524255</td>\n",
       "      <td>267.629833</td>\n",
       "    </tr>\n",
       "    <tr>\n",
       "      <th>48775</th>\n",
       "      <td>9_9_7777</td>\n",
       "      <td>2016</td>\n",
       "      <td>0</td>\n",
       "      <td>152.802478</td>\n",
       "      <td>364.524255</td>\n",
       "      <td>267.629833</td>\n",
       "    </tr>\n",
       "    <tr>\n",
       "      <th>48776</th>\n",
       "      <td>9_9_9999</td>\n",
       "      <td>2012</td>\n",
       "      <td>1</td>\n",
       "      <td>152.802478</td>\n",
       "      <td>364.524255</td>\n",
       "      <td>267.629833</td>\n",
       "    </tr>\n",
       "    <tr>\n",
       "      <th>48777</th>\n",
       "      <td>9_9_9999</td>\n",
       "      <td>2016</td>\n",
       "      <td>0</td>\n",
       "      <td>152.802478</td>\n",
       "      <td>364.524255</td>\n",
       "      <td>267.629833</td>\n",
       "    </tr>\n",
       "  </tbody>\n",
       "</table>\n",
       "<p>48778 rows × 6 columns</p>\n",
       "</div>"
      ],
      "text/plain": [
       "      localidad  anio  cond_resp  actividad_vigorosa_promedio  \\\n",
       "0       10_10_1  2012          2                   152.802478   \n",
       "1       10_10_1  2016          1                   152.802478   \n",
       "2      10_10_29  2012          0                   152.802478   \n",
       "3      10_10_29  2016          1                   152.802478   \n",
       "4      10_10_33  2012          0                   152.802478   \n",
       "...         ...   ...        ...                          ...   \n",
       "48773    9_9_74  2016          1                   152.802478   \n",
       "48774  9_9_7777  2012          1                   152.802478   \n",
       "48775  9_9_7777  2016          0                   152.802478   \n",
       "48776  9_9_9999  2012          1                   152.802478   \n",
       "48777  9_9_9999  2016          0                   152.802478   \n",
       "\n",
       "       actividad_moderada_promedio  actividad_caminar_promedio  \n",
       "0                       364.524255                  267.629833  \n",
       "1                       364.524255                  267.629833  \n",
       "2                       364.524255                  267.629833  \n",
       "3                       364.524255                  267.629833  \n",
       "4                       364.524255                  267.629833  \n",
       "...                            ...                         ...  \n",
       "48773                   364.524255                  267.629833  \n",
       "48774                   364.524255                  267.629833  \n",
       "48775                   364.524255                  267.629833  \n",
       "48776                   364.524255                  267.629833  \n",
       "48777                   364.524255                  267.629833  \n",
       "\n",
       "[48778 rows x 6 columns]"
      ]
     },
     "execution_count": 9,
     "metadata": {},
     "output_type": "execute_result"
    }
   ],
   "source": [
    "df_tr = pd.concat([df.drop(['actividad_vigorosa_promedio', 'actividad_moderada_promedio', 'actividad_caminar_promedio'],axis = 1), df_tr], axis=1)\n",
    "df_tr"
   ]
  },
  {
   "cell_type": "code",
   "execution_count": 10,
   "metadata": {},
   "outputs": [],
   "source": [
    "# Divide conjunto de datos con train_test_split\n",
    "train_set, test_set = train_test_split(df_tr, test_size=0.2, random_state=42)"
   ]
  },
  {
   "cell_type": "code",
   "execution_count": 11,
   "metadata": {},
   "outputs": [
    {
     "data": {
      "text/plain": [
       "(39022, 6)"
      ]
     },
     "execution_count": 11,
     "metadata": {},
     "output_type": "execute_result"
    }
   ],
   "source": [
    "train_set.shape"
   ]
  },
  {
   "cell_type": "code",
   "execution_count": 12,
   "metadata": {},
   "outputs": [
    {
     "data": {
      "text/plain": [
       "(9756, 6)"
      ]
     },
     "execution_count": 12,
     "metadata": {},
     "output_type": "execute_result"
    }
   ],
   "source": [
    "test_set.shape"
   ]
  },
  {
   "cell_type": "code",
   "execution_count": 13,
   "metadata": {},
   "outputs": [],
   "source": [
    "# Define variables dependientes\n",
    "Y = df_tr.cond_resp\n",
    "\n",
    "# Define variables independientes (y = 4 + 3x_1 + ruído gauseano)\n",
    "X = df_tr[['localidad', 'anio', 'actividad_vigorosa_promedio', 'actividad_moderada_promedio', 'actividad_caminar_promedio']]"
   ]
  },
  {
   "cell_type": "code",
   "execution_count": 14,
   "metadata": {},
   "outputs": [],
   "source": [
    "# Agregamos x_0 = 1 a cada observación\n",
    "X_b = np.c_[np.ones((48778, 1)), X]\n",
    "\n",
    "# Ecuación normal\n",
    "theta_best = np.linalg.inv(X_b.T.dot(X_b)).dot(X_b.T).dot(y)\n",
    "theta_best"
   ]
  },
  {
   "cell_type": "code",
   "execution_count": 15,
   "metadata": {},
   "outputs": [],
   "source": [
    "# Divide conjunto de datos\n",
    "X_train, X_test, y_train, y_test = train_test_split(X, Y, test_size = 0.20, random_state = 42)"
   ]
  },
  {
   "cell_type": "code",
   "execution_count": null,
   "metadata": {},
   "outputs": [],
   "source": []
  },
  {
   "cell_type": "code",
   "execution_count": null,
   "metadata": {},
   "outputs": [],
   "source": []
  },
  {
   "cell_type": "code",
   "execution_count": 16,
   "metadata": {},
   "outputs": [],
   "source": [
    "# Crea objeto de regresión lineal\n",
    "lin_reg = LinearRegression()"
   ]
  },
  {
   "cell_type": "code",
   "execution_count": 17,
   "metadata": {},
   "outputs": [
    {
     "data": {
      "text/plain": [
       "(-111.57937027327277,\n",
       " array([-9.93976067e-09,  5.59529334e-02, -2.20225399e-02, -1.14568037e-02,\n",
       "         3.46136973e-02]))"
      ]
     },
     "execution_count": 17,
     "metadata": {},
     "output_type": "execute_result"
    }
   ],
   "source": [
    "# Ajusta modelo de regresión lineal\n",
    "lin_reg.fit(X, Y)\n",
    "\n",
    "# Devuelve intercepto y coeficientes de modelo de regresión lineal\n",
    "lin_reg.intercept_, lin_reg.coef_"
   ]
  },
  {
   "cell_type": "code",
   "execution_count": null,
   "metadata": {},
   "outputs": [],
   "source": []
  }
 ],
 "metadata": {
  "interpreter": {
   "hash": "aee8b7b246df8f9039afb4144a1f6fd8d2ca17a180786b69acc140d282b71a49"
  },
  "kernelspec": {
   "display_name": "Python 3.10.2 64-bit",
   "language": "python",
   "name": "python3"
  },
  "language_info": {
   "codemirror_mode": {
    "name": "ipython",
    "version": 3
   },
   "file_extension": ".py",
   "mimetype": "text/x-python",
   "name": "python",
   "nbconvert_exporter": "python",
   "pygments_lexer": "ipython3",
   "version": "3.10.2"
  },
  "orig_nbformat": 4
 },
 "nbformat": 4,
 "nbformat_minor": 2
}
